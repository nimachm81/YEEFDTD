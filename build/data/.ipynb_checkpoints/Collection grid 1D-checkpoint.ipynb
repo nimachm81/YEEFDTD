{
 "cells": [
  {
   "cell_type": "code",
   "execution_count": 2,
   "metadata": {},
   "outputs": [
    {
     "name": "stdout",
     "output_type": "stream",
     "text": [
      "Populating the interactive namespace from numpy and matplotlib\n",
      "shape :  (4800, 301)\n"
     ]
    }
   ],
   "source": [
    "## read left and right grids\n",
    "\n",
    "%pylab inline\n",
    "import numpy as np\n",
    "from matplotlib import pyplot as plt\n",
    "\n",
    "from ReadBinary import *\n",
    "\n",
    "Ex_l = GetArrays(\"E-x-l.data\")[:,0,0,:]\n",
    "Ex_r = GetArrays(\"E-x-l.data\")[:,0,0,:]\n",
    "\n",
    "Ex = np.concatenate((Ex_l, Ex_r))\n",
    "\n",
    "shape = Ex.shape\n",
    "print(\"shape : \", shape)"
   ]
  },
  {
   "cell_type": "code",
   "execution_count": null,
   "metadata": {},
   "outputs": [],
   "source": [
    "\n",
    "%pylab tk\n",
    "import numpy as np\n",
    "from matplotlib import pyplot as plt\n",
    "from ReadBinary import *\n",
    "\n",
    "\n",
    "plt.ion()\n",
    "plt.figure(figsize=(8, 6)))\n",
    "\n",
    "for n in range(Ex.shape[0]):\n",
    "    plt.clf()\n",
    "    plt.plot(Ex[n, :])\n",
    "    plt.pause(0.05)"
   ]
  }
 ],
 "metadata": {
  "kernelspec": {
   "display_name": "Python 3",
   "language": "python",
   "name": "python3"
  },
  "language_info": {
   "codemirror_mode": {
    "name": "ipython",
    "version": 3
   },
   "file_extension": ".py",
   "mimetype": "text/x-python",
   "name": "python",
   "nbconvert_exporter": "python",
   "pygments_lexer": "ipython3",
   "version": "3.6.7"
  }
 },
 "nbformat": 4,
 "nbformat_minor": 2
}
