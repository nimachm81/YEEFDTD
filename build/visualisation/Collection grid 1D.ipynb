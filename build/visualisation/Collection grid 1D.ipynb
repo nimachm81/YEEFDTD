{
 "cells": [
  {
   "cell_type": "code",
   "execution_count": 1,
   "metadata": {},
   "outputs": [
    {
     "name": "stdout",
     "output_type": "stream",
     "text": [
      "Populating the interactive namespace from numpy and matplotlib\n",
      "Ex_l shape :  (1001, 401)\n",
      "Ex_r shape :  (1001, 201)\n",
      "shape :  (1001, 601)\n"
     ]
    }
   ],
   "source": [
    "## read left and right grids\n",
    "\n",
    "%pylab inline\n",
    "import numpy as np\n",
    "from matplotlib import pyplot as plt\n",
    "\n",
    "from ReadBinary import *\n",
    "\n",
    "Ex_l = GetArrays(\"../data/E-x-l.data\")[:,0,0,:]\n",
    "Ex_r = GetArrays(\"../data/E-x-r.data\")[:,0,0,:]\n",
    "print(\"Ex_l shape : \", Ex_l.shape)\n",
    "print(\"Ex_r shape : \", Ex_r.shape)\n",
    "\n",
    "Ex = np.concatenate((Ex_l[:, :-1], Ex_r), axis=1)\n",
    "\n",
    "shape = Ex.shape\n",
    "print(\"shape : \", shape)"
   ]
  },
  {
   "cell_type": "code",
   "execution_count": 2,
   "metadata": {},
   "outputs": [
    {
     "name": "stdout",
     "output_type": "stream",
     "text": [
      "Populating the interactive namespace from numpy and matplotlib\n"
     ]
    },
    {
     "name": "stderr",
     "output_type": "stream",
     "text": [
      "/home/nima/.local/lib/python3.6/site-packages/IPython/core/magics/pylab.py:160: UserWarning: pylab import has clobbered these variables: ['shape']\n",
      "`%matplotlib` prevents importing * from pylab and numpy\n",
      "  \"\\n`%matplotlib` prevents importing * from pylab and numpy\"\n"
     ]
    }
   ],
   "source": [
    "%pylab tk\n",
    "import numpy as np\n",
    "from matplotlib import pyplot as plt\n",
    "from ReadBinary import *\n",
    "\n",
    "font = {'family' : 'serif', 'weight' : 'normal', 'size' : 16}\n",
    "matplotlib.rc('font', **font)\n",
    "\n",
    "\n",
    "plt.ion()\n",
    "plt.figure(figsize=(8, 6))\n",
    "\n",
    "for n in range(Ex.shape[0]):\n",
    "    plt.clf()\n",
    "    plt.plot(Ex[n, :])\n",
    "    plt.pause(0.01)"
   ]
  },
  {
   "cell_type": "code",
   "execution_count": null,
   "metadata": {},
   "outputs": [],
   "source": []
  }
 ],
 "metadata": {
  "kernelspec": {
   "display_name": "Python 3",
   "language": "python",
   "name": "python3"
  },
  "language_info": {
   "codemirror_mode": {
    "name": "ipython",
    "version": 3
   },
   "file_extension": ".py",
   "mimetype": "text/x-python",
   "name": "python",
   "nbconvert_exporter": "python",
   "pygments_lexer": "ipython3",
   "version": "3.6.7"
  }
 },
 "nbformat": 4,
 "nbformat_minor": 2
}
