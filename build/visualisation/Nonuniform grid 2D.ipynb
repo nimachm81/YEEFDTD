{
 "cells": [
  {
   "cell_type": "code",
   "execution_count": 1,
   "metadata": {},
   "outputs": [
    {
     "name": "stdout",
     "output_type": "stream",
     "text": [
      "Populating the interactive namespace from numpy and matplotlib\n",
      "shape Ex:  (101, 401, 401)   max Ex:  2.8022447\n",
      "shape Ex_r:  (101, 201, 201)   max Ex_r:  0.17510436\n",
      "parameters:  {'x0': -0.5, 'x1': 0.5, 'y0': -0.5, 'y1': 0.5, 'z0': -0.5, 'z1': 0.5, 'gr_x0': -0.5, 'gr_x1': 0.5, 'gr_y0': -0.5, 'gr_y1': 0.5, 'gr_z0': 0.5, 'gr_z1': 0.8999999761581421, 'gl_x0': -0.5, 'gl_x1': 0.5, 'gl_y0': -0.5, 'gl_y1': 0.5, 'gl_z0': -0.8999999761581421, 'gl_z1': -0.5, 'gu_x0': -0.5, 'gu_x1': 0.5, 'gu_y0': 0.5, 'gu_y1': 0.8999999761581421, 'gu_z0': -0.8999999761581421, 'gu_z1': 0.8999999761581421, 'gd_x0': -0.5, 'gd_x1': 0.5, 'gd_y0': -0.8999999761581421, 'gd_y1': -0.5, 'gd_z0': -0.8999999761581421, 'gd_z1': 0.8999999761581421, 'gf_x0': 0.5, 'gf_x1': 0.8999999761581421, 'gf_y0': -0.8999999761581421, 'gf_y1': 0.8999999761581421, 'gf_z0': -0.8999999761581421, 'gf_z1': 0.8999999761581421, 'gb_x0': -0.8999999761581421, 'gb_x1': -0.5, 'gb_y0': -0.8999999761581421, 'gb_y1': 0.8999999761581421, 'gb_z0': -0.8999999761581421, 'gb_z1': 0.8999999761581421, 'grr_x0': -0.8999999761581421, 'grr_x1': 0.8999999761581421, 'grr_y0': -0.8999999761581421, 'grr_y1': 0.8999999761581421, 'grr_z0': 0.8999999761581421, 'grr_z1': 1.6999999284744263, 'gll_x0': -0.8999999761581421, 'gll_x1': 0.8999999761581421, 'gll_y0': -0.8999999761581421, 'gll_y1': 0.8999999761581421, 'gll_z0': -1.6999999284744263, 'gll_z1': -0.8999999761581421, 'guu_x0': -0.8999999761581421, 'guu_x1': 0.8999999761581421, 'guu_y0': 0.8999999761581421, 'guu_y1': 1.6999999284744263, 'guu_z0': -1.6999999284744263, 'guu_z1': 1.6999999284744263, 'gdd_x0': -0.8999999761581421, 'gdd_x1': 0.8999999761581421, 'gdd_y0': -1.6999999284744263, 'gdd_y1': -0.8999999761581421, 'gdd_z0': -1.6999999284744263, 'gdd_z1': 1.6999999284744263, 'gff_x0': 0.8999999761581421, 'gff_x1': 1.6999999284744263, 'gff_y0': -1.6999999284744263, 'gff_y1': 1.6999999284744263, 'gff_z0': -1.6999999284744263, 'gff_z1': 1.6999999284744263, 'gbb_x0': -1.6999999284744263, 'gbb_x1': -0.8999999761581421, 'gbb_y0': -1.6999999284744263, 'gbb_y1': 1.6999999284744263, 'gbb_z0': -1.6999999284744263, 'gbb_z1': 1.6999999284744263}\n"
     ]
    }
   ],
   "source": [
    "## animate Electric field\n",
    "\n",
    "%pylab tk\n",
    "import numpy as np\n",
    "from matplotlib import pyplot as plt\n",
    "from ReadBinary import *\n",
    "\n",
    "indStart = 0\n",
    "\n",
    "Ex = GetArrays(\"../data/2D/E-x.data\", indStart=indStart, indEnd=None)[:, 0, :, :]\n",
    "Ex_r = GetArrays(\"../data/2D/E-r-x.data\", indStart=indStart, indEnd=None)[:, 0, :, :]\n",
    "print(\"shape Ex: \", Ex.shape, \"  max Ex: \", np.max(np.abs(Ex)))\n",
    "print(\"shape Ex_r: \", Ex_r.shape, \"  max Ex_r: \", np.max(np.abs(Ex_r)))\n",
    "\n",
    "params = ReadParamsFile(\"../data/2D/params.param\")\n",
    "print(\"parameters: \", params)"
   ]
  },
  {
   "cell_type": "code",
   "execution_count": 2,
   "metadata": {},
   "outputs": [],
   "source": [
    "plt.ion()\n",
    "plt.figure(figsize=(7,6*(Ex.shape[1]/Ex.shape[2])))\n",
    "\n",
    "for n in range(Ex.shape[0]):\n",
    "    plt.clf()\n",
    "    plt.imshow(np.abs(Ex[n, :,:]), cmap=\"rainbow\", origin='lower', aspect='auto', interpolation=\"bicubic\", extent=[params['z0'], params['z1'], params['y0'], params['y1']])\n",
    "    #plt.imshow(np.abs(Ex_r[n, :,:]), cmap=\"rainbow\", origin='lower', aspect='auto', interpolation=\"bicubic\", extent=[params['gr_z0'], params['gr_z1'], params['gr_y0'], params['gr_y1']])\n",
    "    plt.colorbar()\n",
    "    plt.pause(0.05)\n",
    "    "
   ]
  },
  {
   "cell_type": "code",
   "execution_count": 6,
   "metadata": {},
   "outputs": [],
   "source": [
    "plt.ion()\n",
    "plt.figure(figsize=(10,6*(Ex.shape[1]/Ex.shape[2])))\n",
    "\n",
    "z = np.linspace(params['z0'], params['z1'], Ex.shape[2])\n",
    "y = np.linspace(params['y0'], params['y1'], Ex.shape[1])\n",
    "z_r = np.linspace(params['gr_z0'], params['gr_z1'], Ex_r.shape[2])\n",
    "y_r = np.linspace(params['gr_y0'], params['gr_y1'], Ex_r.shape[1])\n",
    "\n",
    "for n in range(Ex.shape[0]):\n",
    "    plt.clf()\n",
    "    e_max = max(np.max(np.abs(Ex[n])), np.max(np.abs(Ex[n])))\n",
    "    plt.gca().pcolorfast(z, y, np.abs(Ex[n, :,:]), cmap=\"rainbow\", vmax=e_max)\n",
    "    plt.gca().pcolorfast(z_r, y_r, np.abs(Ex_r[n, :,:]), cmap=\"rainbow\", vmax=e_max)\n",
    "    #plt.gca().colorbar()\n",
    "    plt.pause(0.05)\n"
   ]
  },
  {
   "cell_type": "code",
   "execution_count": null,
   "metadata": {},
   "outputs": [],
   "source": []
  }
 ],
 "metadata": {
  "kernelspec": {
   "display_name": "Python 3",
   "language": "python",
   "name": "python3"
  },
  "language_info": {
   "codemirror_mode": {
    "name": "ipython",
    "version": 3
   },
   "file_extension": ".py",
   "mimetype": "text/x-python",
   "name": "python",
   "nbconvert_exporter": "python",
   "pygments_lexer": "ipython3",
   "version": "3.6.7"
  }
 },
 "nbformat": 4,
 "nbformat_minor": 2
}
