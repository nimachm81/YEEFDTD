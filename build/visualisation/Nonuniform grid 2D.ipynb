{
 "cells": [
  {
   "cell_type": "code",
   "execution_count": 8,
   "metadata": {},
   "outputs": [
    {
     "name": "stdout",
     "output_type": "stream",
     "text": [
      "Populating the interactive namespace from numpy and matplotlib\n",
      "shape Ex:  (401, 201, 201)   max Ex:  2.4088604\n"
     ]
    }
   ],
   "source": [
    "## animate Electric field\n",
    "\n",
    "%pylab tk\n",
    "import numpy as np\n",
    "from matplotlib import pyplot as plt\n",
    "from ReadBinary import *\n",
    "\n",
    "indStart = 0\n",
    "\n",
    "Ex = GetArrays(\"../data/2D/E-x.data\", indStart=indStart, indEnd=None)[:, 0, :, :]\n",
    "print(\"shape Ex: \", Ex.shape, \"  max Ex: \", np.max(np.abs(Ex)))\n"
   ]
  },
  {
   "cell_type": "code",
   "execution_count": 9,
   "metadata": {},
   "outputs": [],
   "source": [
    "plt.ion()\n",
    "plt.figure(figsize=(7,6*(Ex.shape[1]/Ex.shape[2])))\n",
    "\n",
    "for n in range(Ex.shape[0]):\n",
    "    plt.clf()\n",
    "    plt.imshow(np.real(Ex[n, :,:]), cmap=\"rainbow\", origin='lower', aspect='auto', interpolation=\"bicubic\")\n",
    "    plt.colorbar()\n",
    "    plt.pause(0.05)\n",
    "    "
   ]
  },
  {
   "cell_type": "code",
   "execution_count": null,
   "metadata": {},
   "outputs": [],
   "source": []
  }
 ],
 "metadata": {
  "kernelspec": {
   "display_name": "Python 3",
   "language": "python",
   "name": "python3"
  },
  "language_info": {
   "codemirror_mode": {
    "name": "ipython",
    "version": 3
   },
   "file_extension": ".py",
   "mimetype": "text/x-python",
   "name": "python",
   "nbconvert_exporter": "python",
   "pygments_lexer": "ipython3",
   "version": "3.6.7"
  }
 },
 "nbformat": 4,
 "nbformat_minor": 2
}
