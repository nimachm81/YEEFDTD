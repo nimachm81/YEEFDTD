{
 "cells": [
  {
   "cell_type": "code",
   "execution_count": 3,
   "metadata": {},
   "outputs": [
    {
     "name": "stdout",
     "output_type": "stream",
     "text": [
      "Populating the interactive namespace from numpy and matplotlib\n",
      "shape Ex:  (101, 401, 401)   max Ex:  2.8022447\n",
      "shape Ex_r:  (101, 201, 201)   max Ex_r:  0.17510436\n",
      "parameters:  {'y0': -5.0, 'y1': 5.0, 'z0': -5.0, 'z1': 5.0, 'gr_y0': -5.0, 'gr_y1': 5.0, 'gr_z0': 5.0, 'gr_z1': 15.0}\n"
     ]
    }
   ],
   "source": [
    "## animate Electric field\n",
    "\n",
    "%pylab tk\n",
    "import numpy as np\n",
    "from matplotlib import pyplot as plt\n",
    "from ReadBinary import *\n",
    "\n",
    "indStart = 0\n",
    "\n",
    "Ex = GetArrays(\"../data/2D/E-x.data\", indStart=indStart, indEnd=None)[:, 0, :, :]\n",
    "Ex_r = GetArrays(\"../data/2D/E-r-x.data\", indStart=indStart, indEnd=None)[:, 0, :, :]\n",
    "print(\"shape Ex: \", Ex.shape, \"  max Ex: \", np.max(np.abs(Ex)))\n",
    "print(\"shape Ex_r: \", Ex_r.shape, \"  max Ex_r: \", np.max(np.abs(Ex_r)))\n",
    "\n",
    "params = ReadParamsFile(\"../data/2D/params.param\")\n",
    "print(\"parameters: \", params)"
   ]
  },
  {
   "cell_type": "code",
   "execution_count": 5,
   "metadata": {},
   "outputs": [],
   "source": [
    "plt.ion()\n",
    "plt.figure(figsize=(7,6*(Ex.shape[1]/Ex.shape[2])))\n",
    "\n",
    "for n in range(Ex.shape[0]):\n",
    "    plt.clf()\n",
    "    plt.imshow(np.abs(Ex[n, :,:]), cmap=\"rainbow\", origin='lower', aspect='auto', interpolation=\"bicubic\", extent=[params['z0'], params['z1'], params['y0'], params['y1']])\n",
    "    #plt.imshow(np.abs(Ex_r[n, :,:]), cmap=\"rainbow\", origin='lower', aspect='auto', interpolation=\"bicubic\", extent=[params['gr_z0'], params['gr_z1'], params['gr_y0'], params['gr_y1']])\n",
    "    plt.colorbar()\n",
    "    plt.pause(0.05)\n",
    "    "
   ]
  },
  {
   "cell_type": "code",
   "execution_count": 11,
   "metadata": {},
   "outputs": [],
   "source": [
    "plt.ion()\n",
    "plt.figure(figsize=(10,6*(Ex.shape[1]/Ex.shape[2])))\n",
    "\n",
    "z = np.linspace(params['z0'], params['z1'], Ex.shape[2])\n",
    "y = np.linspace(params['y0'], params['y1'], Ex.shape[1])\n",
    "z_r = np.linspace(params['gr_z0'], params['gr_z1'], Ex_r.shape[2])\n",
    "y_r = np.linspace(params['gr_y0'], params['gr_y1'], Ex_r.shape[1])\n",
    "\n",
    "for n in range(Ex.shape[0]):\n",
    "    plt.clf()\n",
    "    e_max = max(np.max(np.abs(Ex[n])), np.max(np.abs(Ex[n])))\n",
    "    plt.gca().pcolorfast(z, y, np.abs(Ex[n, :,:]), cmap=\"rainbow\", vmax=e_max)\n",
    "    plt.gca().pcolorfast(z_r, y_r, np.abs(Ex_r[n, :,:]), cmap=\"rainbow\", vmax=e_max)\n",
    "    #plt.gca().colorbar()\n",
    "    plt.pause(0.05)\n"
   ]
  },
  {
   "cell_type": "code",
   "execution_count": null,
   "metadata": {},
   "outputs": [],
   "source": []
  }
 ],
 "metadata": {
  "kernelspec": {
   "display_name": "Python 3",
   "language": "python",
   "name": "python3"
  },
  "language_info": {
   "codemirror_mode": {
    "name": "ipython",
    "version": 3
   },
   "file_extension": ".py",
   "mimetype": "text/x-python",
   "name": "python",
   "nbconvert_exporter": "python",
   "pygments_lexer": "ipython3",
   "version": "3.6.7"
  }
 },
 "nbformat": 4,
 "nbformat_minor": 2
}
