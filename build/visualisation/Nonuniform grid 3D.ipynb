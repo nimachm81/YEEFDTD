{
 "cells": [
  {
   "cell_type": "code",
   "execution_count": 13,
   "metadata": {},
   "outputs": [
    {
     "name": "stdout",
     "output_type": "stream",
     "text": [
      "Populating the interactive namespace from numpy and matplotlib\n",
      "shape Ex:  (151, 101, 101)   max Ex:  3996.4844\n",
      "shape Ex_r:  (151, 51, 51)   max Ex_r:  0.49196512\n",
      "shape Ex_l:  (151, 51, 51)   max Ex_l:  0.49196532\n",
      "shape Ex_u:  (151, 51, 151)   max Ex_u:  0.48746163\n",
      "shape Hly:  (151, 50, 51)   max Hly:  0.50502676\n",
      "parameters:  {'x0': -1.0, 'x1': 1.0, 'y0': -1.0, 'y1': 1.0, 'z0': -1.0, 'z1': 1.0, 'gr_x0': -1.0, 'gr_x1': 1.0, 'gr_y0': -1.0, 'gr_y1': 1.0, 'gr_z0': 1.0, 'gr_z1': 3.0, 'gl_x0': -1.0, 'gl_x1': 1.0, 'gl_y0': -1.0, 'gl_y1': 1.0, 'gl_z0': -3.0, 'gl_z1': -1.0, 'gu_x0': -1.0, 'gu_x1': 1.0, 'gu_y0': 1.0, 'gu_y1': 3.0, 'gu_z0': -3.0, 'gu_z1': 3.0, 'gd_x0': -1.0, 'gd_x1': 1.0, 'gd_y0': -3.0, 'gd_y1': -1.0, 'gd_z0': -3.0, 'gd_z1': 3.0}\n"
     ]
    }
   ],
   "source": [
    "## animate Electric field\n",
    "\n",
    "%pylab tk\n",
    "import numpy as np\n",
    "from matplotlib import pyplot as plt\n",
    "from ReadBinary import *\n",
    "\n",
    "indStart = 0\n",
    "\n",
    "Ex = GetArrays(\"../data/3D/E-x.data\", indStart=indStart, indEnd=None)[:, 0, :, :]\n",
    "Ex_r = GetArrays(\"../data/3D/E-x-r.data\", indStart=indStart, indEnd=None)[:, 0, :, :]\n",
    "Ex_l = GetArrays(\"../data/3D/E-x-l.data\", indStart=indStart, indEnd=None)[:, 0, :, :]\n",
    "Ex_u = GetArrays(\"../data/3D/E-x-u.data\", indStart=indStart, indEnd=None)[:, 0, :, :]\n",
    "Ex_d = GetArrays(\"../data/3D/E-x-d.data\", indStart=indStart, indEnd=None)[:, 0, :, :]\n",
    "\n",
    "Ex_z1 = GetArrays(\"../data/3D/E-x-z1.data\", indStart=indStart, indEnd=None)[:, :, :, 0]\n",
    "Ex_r_z0 = GetArrays(\"../data/3D/E-x-r-z0.data\", indStart=indStart, indEnd=None)[:, :, :, 0]\n",
    "Hly = GetArrays(\"../data/3D/Hl-y.data\", indStart=indStart, indEnd=None)[:, :, :, 0]\n",
    "Hry = GetArrays(\"../data/3D/Hr-y.data\", indStart=indStart, indEnd=None)[:, :, :, 0]\n",
    "Hdx = GetArrays(\"../data/3D/Hd-x.data\", indStart=indStart, indEnd=None)[:, :, 0, :]\n",
    "Hdz = GetArrays(\"../data/3D/Hd-z.data\", indStart=indStart, indEnd=None)[:, :, 0, :]\n",
    "Hux = GetArrays(\"../data/3D/Hu-x.data\", indStart=indStart, indEnd=None)[:, :, 0, :]\n",
    "Huz = GetArrays(\"../data/3D/Hu-z.data\", indStart=indStart, indEnd=None)[:, :, 0, :]\n",
    "Hy_z1 = GetArrays(\"../data/3D/H-y-z1.data\", indStart=indStart, indEnd=None)[:, :, :, 0]\n",
    "Ex_u_y0 = GetArrays(\"../data/3D/E-x-u-y0.data\", indStart=indStart, indEnd=None)[:, :, 0, :]\n",
    "print(\"shape Ex: \", Ex.shape, \"  max Ex: \", np.max(np.abs(Ex)))\n",
    "print(\"shape Ex_r: \", Ex_r.shape, \"  max Ex_r: \", np.max(np.abs(Ex_r)))\n",
    "print(\"shape Ex_l: \", Ex_l.shape, \"  max Ex_l: \", np.max(np.abs(Ex_l)))\n",
    "print(\"shape Ex_u: \", Ex_u.shape, \"  max Ex_u: \", np.max(np.abs(Ex_u)))\n",
    "\n",
    "print(\"shape Hly: \", Hly.shape, \"  max Hly: \", np.max(np.abs(Hly)))\n",
    "\n",
    "params = ReadParamsFile(\"../data/2D/params.param\")\n",
    "print(\"parameters: \", params)\n"
   ]
  },
  {
   "cell_type": "code",
   "execution_count": 14,
   "metadata": {},
   "outputs": [],
   "source": [
    "plt.ion()\n",
    "plt.figure(figsize=(7,6*(Ex.shape[1]/Ex.shape[2])))\n",
    "\n",
    "for n in range(Ex.shape[0]):\n",
    "    plt.clf()\n",
    "    plt.imshow(np.abs(Hux[n, :,:]), cmap=\"rainbow\", origin='lower', aspect='auto', interpolation=None)\n",
    "    #plt.pcolormesh(np.abs(Hdx[n, :,:]), cmap=\"rainbow\")\n",
    "    plt.colorbar()\n",
    "    plt.pause(0.05)\n",
    "    "
   ]
  },
  {
   "cell_type": "code",
   "execution_count": 7,
   "metadata": {},
   "outputs": [],
   "source": [
    "plt.ion()\n",
    "plt.figure(figsize=(10,6*(Ex.shape[1]/Ex.shape[2])))\n",
    "\n",
    "z = np.linspace(params['z0'], params['z1'], Ex.shape[2])\n",
    "y = np.linspace(params['y0'], params['y1'], Ex.shape[1])\n",
    "z_r = np.linspace(params['gr_z0'], params['gr_z1'], Ex_r.shape[2])\n",
    "y_r = np.linspace(params['gr_y0'], params['gr_y1'], Ex_r.shape[1])\n",
    "z_l = np.linspace(params['gl_z0'], params['gl_z1'], Ex_l.shape[2])\n",
    "y_l = np.linspace(params['gl_y0'], params['gl_y1'], Ex_l.shape[1])\n",
    "z_u = np.linspace(params['gu_z0'], params['gu_z1'], Ex_u.shape[2])\n",
    "y_u = np.linspace(params['gu_y0'], params['gu_y1'], Ex_u.shape[1])\n",
    "z_d = np.linspace(params['gd_z0'], params['gd_z1'], Ex_d.shape[2])\n",
    "y_d = np.linspace(params['gd_y0'], params['gd_y1'], Ex_d.shape[1])\n",
    "\n",
    "Z, Y = np.meshgrid(z, y, indexing=\"xy\")\n",
    "Z_r, Y_r = np.meshgrid(z_r, y_r, indexing=\"xy\")\n",
    "Z_l, Y_l = np.meshgrid(z_l, y_l, indexing=\"xy\")\n",
    "Z_u, Y_u = np.meshgrid(z_u, y_u, indexing=\"xy\")\n",
    "Z_d, Y_d = np.meshgrid(z_d, y_d, indexing=\"xy\")\n",
    "\n",
    "for n in range(Ex.shape[0]):\n",
    "    plt.clf()\n",
    "    e_max = max(np.max(np.abs(Ex[n])), np.max(np.abs(Ex_r[n])))\n",
    "    e_max = max(e_max, np.max(np.abs(Ex_l[n])))\n",
    "    plt.pcolormesh(Z, Y, np.abs(Ex[n, :,:]), cmap=\"rainbow\", vmax=e_max)\n",
    "    plt.pcolormesh(Z_r, Y_r, np.abs(Ex_r[n, :,:]), cmap=\"rainbow\", vmax=e_max)\n",
    "    plt.pcolormesh(Z_l, Y_l, np.abs(Ex_l[n, :,:]), cmap=\"rainbow\", vmax=e_max)\n",
    "    plt.pcolormesh(Z_u, Y_u, np.abs(Ex_u[n, :,:]), cmap=\"rainbow\", vmax=e_max)\n",
    "    plt.pcolormesh(Z_d, Y_d, np.abs(Ex_d[n, :,:]), cmap=\"rainbow\", vmax=e_max)\n",
    "    plt.colorbar()\n",
    "    plt.pause(0.05)\n"
   ]
  },
  {
   "cell_type": "code",
   "execution_count": null,
   "metadata": {},
   "outputs": [],
   "source": []
  }
 ],
 "metadata": {
  "kernelspec": {
   "display_name": "Python 3",
   "language": "python",
   "name": "python3"
  },
  "language_info": {
   "codemirror_mode": {
    "name": "ipython",
    "version": 3
   },
   "file_extension": ".py",
   "mimetype": "text/x-python",
   "name": "python",
   "nbconvert_exporter": "python",
   "pygments_lexer": "ipython3",
   "version": "3.6.7"
  }
 },
 "nbformat": 4,
 "nbformat_minor": 2
}
