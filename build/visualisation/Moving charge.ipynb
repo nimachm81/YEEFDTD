{
 "cells": [
  {
   "cell_type": "code",
   "execution_count": 106,
   "metadata": {},
   "outputs": [
    {
     "name": "stdout",
     "output_type": "stream",
     "text": [
      "Populating the interactive namespace from numpy and matplotlib\n"
     ]
    },
    {
     "name": "stderr",
     "output_type": "stream",
     "text": [
      "/home/nima/.local/lib/python3.6/site-packages/IPython/core/magics/pylab.py:160: UserWarning: pylab import has clobbered these variables: ['shape']\n",
      "`%matplotlib` prevents importing * from pylab and numpy\n",
      "  \"\\n`%matplotlib` prevents importing * from pylab and numpy\"\n"
     ]
    },
    {
     "name": "stdout",
     "output_type": "stream",
     "text": [
      "shape Ey:  (41, 201, 202)   max Ey:  0.46644506\n",
      "shape Ez:  (41, 202, 201)   max Ez:  0.53976345\n"
     ]
    }
   ],
   "source": [
    "## animate Electric field\n",
    "\n",
    "%pylab tk\n",
    "import numpy as np\n",
    "from matplotlib import pyplot as plt\n",
    "from ReadBinary import *\n",
    "\n",
    "indStart = 0\n",
    "\n",
    "Ey = GetArrays(\"../data/2D/E-y.data\", indStart=indStart, indEnd=None)[:, 0, :, :]\n",
    "Ez = GetArrays(\"../data/2D/E-z.data\", indStart=indStart, indEnd=None)[:, 0, :, :]\n",
    "#Jy = GetArrays(\"../data/2D/J-y.data\", indStart=indStart, indEnd=None)[:, 0, :, :]\n",
    "Jz = GetArrays(\"../data/2D/J-z.data\", indStart=indStart, indEnd=None)[:, 0, :, :]\n",
    "Hx = GetArrays(\"../data/2D/H-x.data\", indStart=indStart, indEnd=None)[:, 0, :, :]\n",
    "print(\"shape Ey: \", Ey.shape, \"  max Ey: \", np.max(np.abs(Ey)))\n",
    "print(\"shape Ez: \", Ez.shape, \"  max Ez: \", np.max(np.abs(Ez)))\n"
   ]
  },
  {
   "cell_type": "code",
   "execution_count": 107,
   "metadata": {},
   "outputs": [
    {
     "name": "stdout",
     "output_type": "stream",
     "text": [
      "shape divE:  (41, 202, 202)   max divE:  0.9190053939819336\n"
     ]
    }
   ],
   "source": [
    "divE = np.zeros((Ey.shape[0], Ez.shape[1], Ey.shape[2]), dtype=complex)\n",
    "divE[:, 1:-1, :] += Ey[:, 1:, :] - Ey[:, 0:-1, :]\n",
    "divE[:, :, 1:-1] += Ez[:, :, 1:] - Ez[:, :, 0:-1]\n",
    "\n",
    "print(\"shape divE: \", divE.shape, \"  max divE: \", np.max(np.abs(divE)))\n"
   ]
  },
  {
   "cell_type": "code",
   "execution_count": 109,
   "metadata": {},
   "outputs": [
    {
     "name": "stderr",
     "output_type": "stream",
     "text": [
      "/home/nima/.local/lib/python3.6/site-packages/matplotlib/contour.py:1230: UserWarning: No contour levels were found within the data range.\n",
      "  warnings.warn(\"No contour levels were found\"\n"
     ]
    }
   ],
   "source": [
    "E = np.sqrt(Ey[:, :, :-1]**2 + Ez[:, :-1, :]**2)\n",
    "#E = np.log10(E + 1.0e-10)\n",
    "\n",
    "\n",
    "shape = E.shape[1:]\n",
    "\n",
    "plt.ion()\n",
    "plt.figure(figsize=(7,6*(shape[0]/shape[1])))\n",
    "\n",
    "for n in range(E.shape[0]):\n",
    "    plt.clf()\n",
    "    plt.imshow(np.real(E[n, :,:]), cmap=\"rainbow\", origin='lower', aspect='auto', interpolation=\"bicubic\")\n",
    "    plt.colorbar()\n",
    "    plt.contour(np.real(Jz[n, :, :]))\n",
    "    plt.pause(0.05)"
   ]
  },
  {
   "cell_type": "markdown",
   "metadata": {},
   "source": []
  }
 ],
 "metadata": {
  "kernelspec": {
   "display_name": "Python 3",
   "language": "python",
   "name": "python3"
  },
  "language_info": {
   "codemirror_mode": {
    "name": "ipython",
    "version": 3
   },
   "file_extension": ".py",
   "mimetype": "text/x-python",
   "name": "python",
   "nbconvert_exporter": "python",
   "pygments_lexer": "ipython3",
   "version": "3.6.7"
  }
 },
 "nbformat": 4,
 "nbformat_minor": 2
}
