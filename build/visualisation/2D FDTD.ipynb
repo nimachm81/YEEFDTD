{
 "cells": [
  {
   "cell_type": "code",
   "execution_count": 25,
   "metadata": {},
   "outputs": [
    {
     "name": "stdout",
     "output_type": "stream",
     "text": [
      "Populating the interactive namespace from numpy and matplotlib\n"
     ]
    }
   ],
   "source": [
    "%pylab tk\n",
    "import numpy as np\n",
    "from matplotlib import pyplot as plt\n",
    "\n",
    "# physical constants\n",
    "eps_r = 1.0\n",
    "\n",
    "# set box dimensions\n",
    "z0 = -5.0\n",
    "z1 = 5.0\n",
    "y0 = -5.0\n",
    "y1 = 5.0\n",
    "\n",
    "# number of cells\n",
    "nz = int((z1 - z0)*40)\n",
    "ny = int((y1 - y0)*40)\n",
    "\n",
    "# cell size\n",
    "dz = (z1 - z0)/nz\n",
    "dy = (y1 - y0)/ny\n",
    "\n",
    "# time step\n",
    "stability_factor = 0.99\n",
    "dt = 1.0 / sqrt(1.0/dz**2 + 1.0/dy**2)*stability_factor\n",
    "\n",
    "n_time_steps = 12*40\n",
    "\n",
    "# fields \n",
    "Ex = np.zeros((ny + 1, nz + 1))\n",
    "Ey = np.zeros((ny, nz + 1))\n",
    "Ez = np.zeros((ny + 1, nz))\n",
    "\n",
    "Jx = np.zeros((ny + 1, nz + 1))\n",
    "Jy = np.zeros((ny, nz + 1))\n",
    "Jz = np.zeros((ny + 1, nz))\n",
    "\n",
    "Hx = np.zeros((ny, nz))\n",
    "Hy = np.zeros((ny + 1, nz))\n",
    "Hz = np.zeros((ny, nz + 1))\n",
    "\n",
    "# some constants\n",
    "dt_dz = dt / dz\n",
    "dt_dy = dt / dy\n",
    "dt_dz_eps = dt / dz / eps_r\n",
    "dt_dy_eps = dt / dy / eps_r\n",
    "_1_eps = 1.0 / eps_r\n",
    "\n",
    "plt.ion()\n",
    "for n in range(n_time_steps):\n",
    "    # eps*dE/dt = curl H - J  \n",
    "    Ex[1:ny, 1:nz] += -dt_dz_eps*(Hy[1:ny, 1:] - Hy[1:ny, :nz-1]) + dt_dy_eps*(Hz[1:, 1:nz] - Hz[:ny-1, 1:nz]) - _1_eps*Jx[1:ny, 1:nz]\n",
    "    Ey[:, 1:nz] += dt_dz*(Hx[:, :nz-1] - Hx[:, 1:])\n",
    "    Ez[1:ny, :] += -dt_dy*(Hx[:ny-1, :] - Hx[1:, :])\n",
    "    \n",
    "    # dH/dt = -curl E\n",
    "    Hx[:, :] += dt_dz*(Ey[:, :nz] - Ey[:, 1:]) - dt_dy*(Ez[:ny, :] - Ez[1:, :])\n",
    "    Hy[:, :] += -dt_dz*(Ex[:, 1:] - Ex[:, :nz])\n",
    "    Hz[:, :] += dt_dy*(Ex[1:, :] - Ex[:ny, :])\n",
    "    \n",
    "    # test current\n",
    "    Jx[int(ny/2), int(nz/2)] = np.exp(-(n*dt - 2.0)**2)*np.sin(2.0*(n*dt - 2.0))\n",
    "    \n",
    "    plt.clf()\n",
    "    plt.imshow(Ex, cmap=\"rainbow\", origin='lower', aspect='auto', interpolation=None)\n",
    "    plt.colorbar()\n",
    "    plt.pause(0.05)\n",
    "               "
   ]
  },
  {
   "cell_type": "code",
   "execution_count": null,
   "metadata": {},
   "outputs": [],
   "source": []
  }
 ],
 "metadata": {
  "kernelspec": {
   "display_name": "Python 3",
   "language": "python",
   "name": "python3"
  },
  "language_info": {
   "codemirror_mode": {
    "name": "ipython",
    "version": 3
   },
   "file_extension": ".py",
   "mimetype": "text/x-python",
   "name": "python",
   "nbconvert_exporter": "python",
   "pygments_lexer": "ipython3",
   "version": "3.6.7"
  }
 },
 "nbformat": 4,
 "nbformat_minor": 2
}
