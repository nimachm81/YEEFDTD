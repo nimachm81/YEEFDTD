{
 "cells": [
  {
   "cell_type": "code",
   "execution_count": 7,
   "metadata": {},
   "outputs": [
    {
     "name": "stdout",
     "output_type": "stream",
     "text": [
      "Populating the interactive namespace from numpy and matplotlib\n"
     ]
    },
    {
     "name": "stderr",
     "output_type": "stream",
     "text": [
      "/home/nima/.local/lib/python3.6/site-packages/IPython/core/magics/pylab.py:160: UserWarning: pylab import has clobbered these variables: ['shape']\n",
      "`%matplotlib` prevents importing * from pylab and numpy\n",
      "  \"\\n`%matplotlib` prevents importing * from pylab and numpy\"\n"
     ]
    },
    {
     "name": "stdout",
     "output_type": "stream",
     "text": [
      "shape Ey:  (401, 300, 301)\n",
      "shape Ez:  (401, 301, 300)\n"
     ]
    }
   ],
   "source": [
    "## animate Electric field\n",
    "\n",
    "%pylab tk\n",
    "import numpy as np\n",
    "from matplotlib import pyplot as plt\n",
    "from ReadBinary import *\n",
    "\n",
    "\n",
    "Ey = GetArrays(\"../data/2D/E-y.data\", indStart=0, indEnd=None)[:, 0, :, :]\n",
    "Ez = GetArrays(\"../data/2D/E-z.data\", indStart=0, indEnd=None)[:, 0, :, :]\n",
    "print(\"shape Ey: \", Ey.shape)\n",
    "print(\"shape Ez: \", Ez.shape)\n",
    "\n",
    "E = np.sqrt(Ey[:, :, :-1]**2 + Ez[:, :-1, :]**2)\n",
    "E = np.log10(E + 1.0e-5)\n",
    "\n",
    "shape = E.shape[1:]\n",
    "\n",
    "plt.ion()\n",
    "plt.figure(figsize=(7,6*(shape[0]/shape[1])))\n",
    "\n",
    "for n in range(E.shape[0]):\n",
    "    plt.clf()\n",
    "    plt.imshow(np.real(E[n, :,:]), cmap=\"rainbow\", origin='lower', aspect='auto')\n",
    "    plt.colorbar()\n",
    "    plt.pause(0.05)"
   ]
  },
  {
   "cell_type": "code",
   "execution_count": null,
   "metadata": {},
   "outputs": [],
   "source": []
  }
 ],
 "metadata": {
  "kernelspec": {
   "display_name": "Python 3",
   "language": "python",
   "name": "python3"
  },
  "language_info": {
   "codemirror_mode": {
    "name": "ipython",
    "version": 3
   },
   "file_extension": ".py",
   "mimetype": "text/x-python",
   "name": "python",
   "nbconvert_exporter": "python",
   "pygments_lexer": "ipython3",
   "version": "3.6.7"
  }
 },
 "nbformat": 4,
 "nbformat_minor": 2
}
