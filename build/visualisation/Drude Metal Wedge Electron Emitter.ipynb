{
 "cells": [
  {
   "cell_type": "code",
   "execution_count": 38,
   "metadata": {},
   "outputs": [
    {
     "name": "stdout",
     "output_type": "stream",
     "text": [
      "Populating the interactive namespace from numpy and matplotlib\n"
     ]
    },
    {
     "name": "stderr",
     "output_type": "stream",
     "text": [
      "/home/nima/.local/lib/python3.6/site-packages/IPython/core/magics/pylab.py:160: UserWarning: pylab import has clobbered these variables: ['shape']\n",
      "`%matplotlib` prevents importing * from pylab and numpy\n",
      "  \"\\n`%matplotlib` prevents importing * from pylab and numpy\"\n"
     ]
    },
    {
     "name": "stdout",
     "output_type": "stream",
     "text": [
      "shape Ey:  (130, 800, 801)\n",
      "shape Ez:  (130, 801, 800)\n",
      "max Jey:  5050463.5\n",
      "max Jez:  12675683.0\n"
     ]
    }
   ],
   "source": [
    "## animate Electric field\n",
    "\n",
    "%pylab tk\n",
    "import numpy as np\n",
    "from matplotlib import pyplot as plt\n",
    "import os\n",
    "from ReadBinary import *\n",
    "\n",
    "indStart = 0\n",
    "\n",
    "Ey = GetArrays(\"../data/2D/E-y.data\", indStart=indStart, indEnd=None)[:, 0, :, :]\n",
    "Ez = GetArrays(\"../data/2D/E-z.data\", indStart=indStart, indEnd=None)[:, 0, :, :]\n",
    "#Hx = GetArrays(\"../data/2D/H-x.data\", indStart=indStart, indEnd=None)[:, 0, :, :]\n",
    "Jey = GetArrays(\"../data/2D/Je-y.data\", indStart=indStart, indEnd=None)[:, 0, :, :]\n",
    "Jez = GetArrays(\"../data/2D/Je-z.data\", indStart=indStart, indEnd=None)[:, 0, :, :]\n",
    "Wp2y = GetArrays(\"../data/2D/Wp2-y.data\", indStart=0, indEnd=1)[0, 0, :, :]\n",
    "\n",
    "\n",
    "print(\"shape Ey: \", Ey.shape)\n",
    "print(\"shape Ez: \", Ez.shape)\n",
    "\n",
    "print(\"max Jey: \", np.max(np.abs(Jey)))\n",
    "print(\"max Jez: \", np.max(np.abs(Jez)))\n",
    "\n",
    "show_pml = False\n",
    "\n",
    "Ey_pml_r = None\n",
    "Ez_pml_r = None\n",
    "Ey_pml_l = None\n",
    "Ez_pml_l = None\n",
    "if show_pml:\n",
    "    if os.path.exists(\"../data/2D/E-pml-r-y.data\"):\n",
    "        Ey_pml_r = GetArrays(\"../data/2D/E-pml-r-y.data\", indStart=0, indEnd=None)[:, 0, :, :]\n",
    "    if os.path.exists(\"../data/2D/E-pml-r-z.data\"):\n",
    "        Ez_pml_r = GetArrays(\"../data/2D/E-pml-r-z.data\", indStart=0, indEnd=None)[:, 0, :, :]\n",
    "    if os.path.exists(\"../data/2D/E-pml-l-y.data\"):\n",
    "        Ey_pml_l = GetArrays(\"../data/2D/E-pml-l-y.data\", indStart=0, indEnd=None)[:, 0, :, :]\n",
    "    if os.path.exists(\"../data/2D/E-pml-l-z.data\"):\n",
    "        Ez_pml_l = GetArrays(\"../data/2D/E-pml-l-z.data\", indStart=0, indEnd=None)[:, 0, :, :]\n",
    "\n",
    "    Ey = np.concatenate((Ey_pml_l[:, :,:-1], Ey[:, :,:-1], Ey_pml_r[:, :,:]), axis=-1)\n",
    "    Ez = np.concatenate((Ez_pml_l[:, :,:], Ez[:, :,:], Ez_pml_r[:, :,:]), axis=-1)\n"
   ]
  },
  {
   "cell_type": "code",
   "execution_count": 39,
   "metadata": {},
   "outputs": [
    {
     "name": "stderr",
     "output_type": "stream",
     "text": [
      "/home/nima/.local/lib/python3.6/site-packages/matplotlib/contour.py:1230: UserWarning: No contour levels were found within the data range.\n",
      "  warnings.warn(\"No contour levels were found\"\n"
     ]
    }
   ],
   "source": [
    "import matplotlib.animation as animation\n",
    "\n",
    "E = np.sqrt(Ey[:, :, :-1]**2 + Ez[:, :-1, :]**2)\n",
    "#E = np.log10(E + 1.0e-10)\n",
    "Je = np.sqrt(Jey[:, :, :-1]**2 + Jez[:, :-1, :]**2)\n",
    "Je = np.log10(Je + 1.0e-10)\n",
    "\n",
    "shape = E.shape[1:]\n",
    "\n",
    "animate = True\n",
    "save_animation = False\n",
    "\n",
    "if animate:\n",
    "    def animate_E(n):\n",
    "        #E_n = np.concatenate((E_pml_l[n, :,:-1], E[n, :,:-1], E_pml_r[n, :,:]), axis=1)\n",
    "        E_n = Je[n, :,:-1]\n",
    "        plt.clf()\n",
    "        fig = plt.imshow(np.real(E_n), cmap=\"rainbow\", origin='lower', aspect='auto', interpolation=\"bicubic\")\n",
    "        plt.colorbar()\n",
    "        plt.xlabel(r'$z$', fontsize=16)\n",
    "        plt.ylabel(r'$y$', fontsize=16)\n",
    "        #plt.title(r'$|E|$ total', fontsize=20)\n",
    "        plt.title(r'$E_y$', fontsize=20)\n",
    "        plt.contour(np.real(Wp2y))\n",
    "        plt.contour(np.real(Je[n, :, :]))\n",
    "        plt.pause(0.05)\n",
    "        \n",
    "        return fig\n",
    "    \n",
    "    if not save_animation:\n",
    "        plt.ion()\n",
    "        plt.figure(figsize=(7,6*(shape[0]/shape[1])))\n",
    "\n",
    "        for n in range(E.shape[0]):\n",
    "            animate_E(n)\n",
    "    else:\n",
    "        fig = plt.figure(figsize=(7,6*(shape[0]/shape[1])))\n",
    "        anim = animation.FuncAnimation(fig, animate_E, frames=E.shape[0], interval=1, repeat=False)\n",
    "        anim.save(\"../data/2D/\" + 'Efield-anim.mp4', writer=\"ffmpeg\", fps=15, dpi=200)\n"
   ]
  },
  {
   "cell_type": "code",
   "execution_count": null,
   "metadata": {},
   "outputs": [],
   "source": []
  }
 ],
 "metadata": {
  "kernelspec": {
   "display_name": "Python 3",
   "language": "python",
   "name": "python3"
  },
  "language_info": {
   "codemirror_mode": {
    "name": "ipython",
    "version": 3
   },
   "file_extension": ".py",
   "mimetype": "text/x-python",
   "name": "python",
   "nbconvert_exporter": "python",
   "pygments_lexer": "ipython3",
   "version": "3.6.7"
  }
 },
 "nbformat": 4,
 "nbformat_minor": 2
}
