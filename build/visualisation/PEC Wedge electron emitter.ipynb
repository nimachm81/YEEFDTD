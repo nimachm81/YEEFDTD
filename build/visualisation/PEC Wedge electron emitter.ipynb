{
 "cells": [
  {
   "cell_type": "code",
   "execution_count": 79,
   "metadata": {},
   "outputs": [
    {
     "name": "stdout",
     "output_type": "stream",
     "text": [
      "Populating the interactive namespace from numpy and matplotlib\n",
      "shape Ey:  (142, 800, 801)\n",
      "shape Ez:  (142, 801, 800)\n",
      "max Jey:  1426.2064\n",
      "max Jez:  1945.6005\n"
     ]
    }
   ],
   "source": [
    "## animate Electric field\n",
    "\n",
    "%pylab tk\n",
    "import numpy as np\n",
    "from matplotlib import pyplot as plt\n",
    "from ReadBinary import *\n",
    "\n",
    "indStart = 0\n",
    "\n",
    "Ey = GetArrays(\"../data/2D/E-y.data\", indStart=indStart, indEnd=None)[:, 0, :, :]\n",
    "Ez = GetArrays(\"../data/2D/E-z.data\", indStart=indStart, indEnd=None)[:, 0, :, :]\n",
    "#Hx = GetArrays(\"../data/2D/H-x.data\", indStart=indStart, indEnd=None)[:, 0, :, :]\n",
    "Jey = GetArrays(\"../data/2D/Je-y.data\", indStart=indStart, indEnd=None)[:, 0, :, :]\n",
    "Jez = GetArrays(\"../data/2D/Je-z.data\", indStart=indStart, indEnd=None)[:, 0, :, :]\n",
    "Metaly = GetArrays(\"../data/2D/Metal-y.data\", indStart=0, indEnd=1)[0, 0, :, :]\n",
    "\n",
    "print(\"shape Ey: \", Ey.shape)\n",
    "print(\"shape Ez: \", Ez.shape)\n",
    "\n",
    "print(\"max Jey: \", np.max(np.abs(Jey)))\n",
    "print(\"max Jez: \", np.max(np.abs(Jez)))\n"
   ]
  },
  {
   "cell_type": "code",
   "execution_count": 85,
   "metadata": {},
   "outputs": [
    {
     "name": "stderr",
     "output_type": "stream",
     "text": [
      "/home/nima/.local/lib/python3.6/site-packages/matplotlib/contour.py:1230: UserWarning: No contour levels were found within the data range.\n",
      "  warnings.warn(\"No contour levels were found\"\n",
      "Exception in Tkinter callback\n",
      "Traceback (most recent call last):\n",
      "  File \"/usr/lib/python3.6/tkinter/__init__.py\", line 1705, in __call__\n",
      "    return self.func(*args)\n",
      "  File \"/usr/lib/python3.6/tkinter/__init__.py\", line 749, in callit\n",
      "    func(*args)\n",
      "  File \"/home/nima/.local/lib/python3.6/site-packages/matplotlib/backends/_backend_tk.py\", line 88, in _on_timer\n",
      "    TimerBase._on_timer(self)\n",
      "  File \"/home/nima/.local/lib/python3.6/site-packages/matplotlib/backend_bases.py\", line 1373, in _on_timer\n",
      "    ret = func(*args, **kwargs)\n",
      "  File \"/home/nima/.local/lib/python3.6/site-packages/matplotlib/animation.py\", line 1481, in _step\n",
      "    still_going = Animation._step(self, *args)\n",
      "  File \"/home/nima/.local/lib/python3.6/site-packages/matplotlib/animation.py\", line 1217, in _step\n",
      "    self._draw_next_frame(framedata, self._blit)\n",
      "  File \"/home/nima/.local/lib/python3.6/site-packages/matplotlib/animation.py\", line 1236, in _draw_next_frame\n",
      "    self._draw_frame(framedata)\n",
      "  File \"/home/nima/.local/lib/python3.6/site-packages/matplotlib/animation.py\", line 1772, in _draw_frame\n",
      "    self._drawn_artists = self._func(framedata, *self._args)\n",
      "  File \"<ipython-input-85-ae0bf30d2726>\", line 26, in animate_E\n",
      "    plt.pause(0.05)\n",
      "  File \"/home/nima/.local/lib/python3.6/site-packages/matplotlib/pyplot.py\", line 296, in pause\n",
      "    canvas.start_event_loop(interval)\n",
      "  File \"/home/nima/.local/lib/python3.6/site-packages/matplotlib/backend_bases.py\", line 2460, in start_event_loop\n",
      "    self.flush_events()\n",
      "  File \"/home/nima/.local/lib/python3.6/site-packages/matplotlib/backends/_backend_tk.py\", line 452, in flush_events\n",
      "    self._master.update()\n",
      "  File \"/usr/lib/python3.6/tkinter/__init__.py\", line 1177, in update\n",
      "    self.tk.call('update')\n",
      "_tkinter.TclError: can't invoke \"update\" command: application has been destroyed\n"
     ]
    }
   ],
   "source": [
    "import matplotlib.animation as animation\n",
    "\n",
    "E = np.sqrt(Ey[:, :, :-1]**2 + Ez[:, :-1, :]**2)\n",
    "#E = np.log10(E + 1.0e-10)\n",
    "Je = np.sqrt(Jey[:, :, :-1]**2 + Jez[:, :-1, :]**2)\n",
    "Je = np.log10(Je + 1.0e-10)\n",
    "\n",
    "shape = E.shape[1:]\n",
    "\n",
    "animate = True\n",
    "save_animation = True\n",
    "\n",
    "if animate:\n",
    "    def animate_E(n):\n",
    "        #E_n = np.concatenate((E_pml_l[n, :,:-1], E[n, :,:-1], E_pml_r[n, :,:]), axis=1)\n",
    "        E_n = Ey[n, :,:-1]\n",
    "        plt.clf()\n",
    "        fig = plt.imshow(np.real(E_n), cmap=\"rainbow\", origin='lower', aspect='auto', interpolation=\"bicubic\")\n",
    "        plt.colorbar()\n",
    "        plt.xlabel(r'$z$', fontsize=16)\n",
    "        plt.ylabel(r'$y$', fontsize=16)\n",
    "        #plt.title(r'$|E|$ total', fontsize=20)\n",
    "        plt.title(r'$E_y$', fontsize=20)\n",
    "        plt.contour(np.real(Metaly))\n",
    "        plt.contour(np.real(Je[n, :, :]))\n",
    "        plt.pause(0.05)\n",
    "        \n",
    "        return fig\n",
    "    \n",
    "    if not save_animation:\n",
    "        plt.ion()\n",
    "        plt.figure(figsize=(7,6*(shape[0]/shape[1])))\n",
    "\n",
    "        for n in range(E.shape[0]):\n",
    "            animate_E(n)\n",
    "    else:\n",
    "        fig = plt.figure(figsize=(7,6*(shape[0]/shape[1])))\n",
    "        anim = animation.FuncAnimation(fig, animate_E, frames=E.shape[0], interval=1, repeat=False)\n",
    "        anim.save(\"../data/2D/\" + 'Efield-anim.mp4', writer=\"ffmpeg\", fps=15, dpi=200)\n"
   ]
  },
  {
   "cell_type": "code",
   "execution_count": null,
   "metadata": {},
   "outputs": [],
   "source": []
  }
 ],
 "metadata": {
  "kernelspec": {
   "display_name": "Python 3",
   "language": "python",
   "name": "python3"
  },
  "language_info": {
   "codemirror_mode": {
    "name": "ipython",
    "version": 3
   },
   "file_extension": ".py",
   "mimetype": "text/x-python",
   "name": "python",
   "nbconvert_exporter": "python",
   "pygments_lexer": "ipython3",
   "version": "3.6.7"
  }
 },
 "nbformat": 4,
 "nbformat_minor": 2
}
