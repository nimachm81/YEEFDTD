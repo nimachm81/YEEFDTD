{
 "cells": [
  {
   "cell_type": "code",
   "execution_count": 1,
   "metadata": {},
   "outputs": [
    {
     "name": "stdout",
     "output_type": "stream",
     "text": [
      "Populating the interactive namespace from numpy and matplotlib\n",
      "typeCode:  1\n",
      "typeSize:  4\n",
      "shape:  (1, 101, 1301)\n",
      "numOfArrays:  21\n",
      "shape:  (101, 1301)\n"
     ]
    },
    {
     "data": {
      "image/png": "[encoded data removed]",
      "text/plain": [
       "<Figure size 432x33.5373 with 1 Axes>"
      ]
     },
     "metadata": {
      "needs_background": "light"
     },
     "output_type": "display_data"
    }
   ],
   "source": [
    "## plot plasma density\n",
    "\n",
    "%pylab inline\n",
    "import numpy as np\n",
    "from matplotlib import pyplot as plt\n",
    "\n",
    "from ReadBinary import *\n",
    "\n",
    "filename = \"../data/Wp2-x.data\"\n",
    "arrayInfo = GetArrayInfo(filename)\n",
    "\n",
    "print(\"typeCode: \", arrayInfo[\"typeCode\"])\n",
    "print(\"typeSize: \", arrayInfo[\"typeSize\"])\n",
    "print(\"shape: \", arrayInfo[\"shape\"])\n",
    "print(\"numOfArrays: \", arrayInfo[\"numOfArrays\"])\n",
    "\n",
    "Wp2 = GetArrays(filename, 0, 1)[0,0,:,:]\n",
    "print(\"shape: \", Wp2.shape)\n",
    "\n",
    "shape = Wp2.shape\n",
    "\n",
    "plt.figure(figsize=(6, 6*(shape[0]/shape[1])))\n",
    "plt.imshow(np.real(Wp2[:,:]), cmap=\"rainbow\", origin='lower', aspect='auto')\n",
    "plt.show()"
   ]
  },
  {
   "cell_type": "code",
   "execution_count": 7,
   "metadata": {},
   "outputs": [
    {
     "name": "stdout",
     "output_type": "stream",
     "text": [
      "Populating the interactive namespace from numpy and matplotlib\n",
      "typeCode:  1\n",
      "typeSize:  4\n",
      "shape:  (1, 101, 1301)\n",
      "numOfArrays:  2001\n",
      "shape:  (500, 101, 1301)\n"
     ]
    }
   ],
   "source": [
    "## animate Electric field\n",
    "\n",
    "%pylab tk\n",
    "import numpy as np\n",
    "from matplotlib import pyplot as plt\n",
    "from ReadBinary import *\n",
    "\n",
    "filename = \"../data/E-x.data\"\n",
    "arrayInfo = GetArrayInfo(filename)\n",
    "\n",
    "print(\"typeCode: \", arrayInfo[\"typeCode\"])\n",
    "print(\"typeSize: \", arrayInfo[\"typeSize\"])\n",
    "print(\"shape: \", arrayInfo[\"shape\"])\n",
    "print(\"numOfArrays: \", arrayInfo[\"numOfArrays\"])\n",
    "\n",
    "E = GetArrays(filename, indStart=-500, indEnd=None)[:, 0, :, :]\n",
    "print(\"shape: \", E.shape)\n",
    "\n",
    "shape = E.shape[1:]\n",
    "\n",
    "plt.ion()\n",
    "plt.figure(figsize=(7,6*(shape[0]/shape[1])))\n",
    "\n",
    "for n in range(E.shape[0]):\n",
    "    plt.clf()\n",
    "    plt.imshow(np.real(E[n, :,:]), cmap=\"rainbow\", origin='lower', aspect='auto')\n",
    "    plt.colorbar()\n",
    "    plt.pause(0.05)"
   ]
  },
  {
   "cell_type": "code",
   "execution_count": 3,
   "metadata": {},
   "outputs": [
    {
     "name": "stdout",
     "output_type": "stream",
     "text": [
      "Populating the interactive namespace from numpy and matplotlib\n"
     ]
    },
    {
     "name": "stderr",
     "output_type": "stream",
     "text": [
      "/home/nima/.local/lib/python3.6/site-packages/IPython/core/magics/pylab.py:160: UserWarning: pylab import has clobbered these variables: ['shape']\n",
      "`%matplotlib` prevents importing * from pylab and numpy\n",
      "  \"\\n`%matplotlib` prevents importing * from pylab and numpy\"\n"
     ]
    }
   ],
   "source": [
    "%pylab tk\n",
    "\n",
    "shape = E.shape[1:]\n",
    "ion()\n",
    "\n",
    "nz_ignore = 300\n",
    "\n",
    "for n in range(E.shape[0]): \n",
    "    clf()\n",
    "    plot(E[n, int(shape[0]/2), nz_ignore:])\n",
    "    pause(0.05)\n"
   ]
  },
  {
   "cell_type": "code",
   "execution_count": 4,
   "metadata": {},
   "outputs": [
    {
     "name": "stdout",
     "output_type": "stream",
     "text": [
      "shape :  (600, 101, 1301)\n",
      "Nt: 600,   Ny: 101,   Nz: 1301\n"
     ]
    }
   ],
   "source": [
    "## Get Spectrum 1D\n",
    "\n",
    "E = GetArrays(filename, indStart=-600, indEnd=None)[:, 0, :, :]\n",
    "shape = E.shape\n",
    "print(\"shape : \", shape)\n",
    "\n",
    "Nt, Ny, Nz = shape\n",
    "print(\"Nt: {},   Ny: {},   Nz: {}\".format(Nt, Ny, Nz))\n",
    "\n",
    "#E_tz = np.sum(E, axis=1)/Ny\n",
    "E_tz = E[:, int(Ny/2), nz_ignore:]\n",
    "\n",
    "E_f = np.fft.fft2(E_tz)"
   ]
  },
  {
   "cell_type": "code",
   "execution_count": 6,
   "metadata": {},
   "outputs": [
    {
     "name": "stdout",
     "output_type": "stream",
     "text": [
      "Populating the interactive namespace from numpy and matplotlib\n"
     ]
    },
    {
     "name": "stderr",
     "output_type": "stream",
     "text": [
      "/home/nima/.local/lib/python3.6/site-packages/IPython/core/magics/pylab.py:160: UserWarning: pylab import has clobbered these variables: ['shape']\n",
      "`%matplotlib` prevents importing * from pylab and numpy\n",
      "  \"\\n`%matplotlib` prevents importing * from pylab and numpy\"\n"
     ]
    },
    {
     "data": {
      "text/plain": [
       "<matplotlib.image.AxesImage at 0x7f8f756af5c0>"
      ]
     },
     "execution_count": 6,
     "metadata": {},
     "output_type": "execute_result"
    },
    {
     "data": {
      "image/png": "[encoded data removed]",
      "text/plain": [
       "<Figure size 432x288 with 1 Axes>"
      ]
     },
     "metadata": {
      "needs_background": "light"
     },
     "output_type": "display_data"
    }
   ],
   "source": [
    "%pylab inline\n",
    "imshow(np.real(E_f)[0:100, 0:100], origin=\"lower\", cmap=\"rainbow\")\n"
   ]
  },
  {
   "cell_type": "code",
   "execution_count": 33,
   "metadata": {},
   "outputs": [
    {
     "name": "stdout",
     "output_type": "stream",
     "text": [
      "shape :  (600, 101, 1301)\n",
      "Nt: 600,   Ny: 101,   Nz: 1301\n",
      "0 1 2 3 4 5 6 7 8 9 10 11 12 13 14 15 16 17 18 19 20 21 22 23 24 25 26 27 28 29 30 31 32 33 34 35 36 37 38 39 40 41 42 43 44 45 46 47 48 49 50 51 52 53 54 55 56 57 58 59 60 61 62 63 64 65 66 67 68 69 70 71 72 73 74 75 76 77 78 79 80 81 82 83 84 85 86 87 88 89 90 91 92 93 94 95 96 97 98 99 "
     ]
    }
   ],
   "source": [
    "## Get Spectrum 2D\n",
    "\n",
    "E = GetArrays(filename, indStart=-600, indEnd=None)[:, 0, :, :]\n",
    "shape = E.shape\n",
    "print(\"shape : \", shape)\n",
    "\n",
    "nz_ignore = 300\n",
    "\n",
    "Nt, Ny, Nz = shape\n",
    "print(\"Nt: {},   Ny: {},   Nz: {}\".format(Nt, Ny, Nz))\n",
    "\n",
    "E_tz = (np.sum(E, axis=1)/Ny)[:, nz_ignore:]\n",
    "#E_tz = E[:, int(Ny/2), nz_ignore:]\n",
    "\n",
    "Nky, Nkz = 100, 100\n",
    "Nw = 100\n",
    "\n",
    "ky_max, kz_max = 4.0*np.pi, 4.0*np.pi\n",
    "w_max = 30.0\n",
    "\n",
    "w = np.linspace(0, w_max, Nw)\n",
    "kz = np.linspace(0, kz_max, Nkz)\n",
    "E_f = np.zeros((Nw, Nkz), dtype=complex)\n",
    "\n",
    "S = 0.95\n",
    "dy = 10/Ny\n",
    "dz = 12/Nz\n",
    "dt = 1.0/np.sqrt(1.0/dy**2 + 1.0/dz**2)*S\n",
    "\n",
    "t = np.linspace(0.0, Nt*dt, Nt, endpoint=True)\n",
    "z = np.linspace(0.0, Nz*dz, Nz)[nz_ignore:]\n",
    "\n",
    "t_mesh, z_mesh = np.meshgrid(t, z, indexing=\"ij\")\n",
    "\n",
    "for i in range(Nw):\n",
    "    w_i = w[i]\n",
    "    print(i, end=\" \")\n",
    "    for j in range(Nkz):\n",
    "        kz_j = kz[j]\n",
    "        E_f[i, j] = np.sum(E_tz*np.exp(-1j*w_i*t_mesh + 1j*kz_j*z_mesh))\n",
    "        \n",
    "E_f *= dt*dy/(2.0*np.pi)**2\n",
    "\n",
    "\n"
   ]
  },
  {
   "cell_type": "code",
   "execution_count": 34,
   "metadata": {},
   "outputs": [
    {
     "name": "stdout",
     "output_type": "stream",
     "text": [
      "Populating the interactive namespace from numpy and matplotlib\n"
     ]
    },
    {
     "name": "stderr",
     "output_type": "stream",
     "text": [
      "/home/nima/.local/lib/python3.6/site-packages/IPython/core/magics/pylab.py:160: UserWarning: pylab import has clobbered these variables: ['shape']\n",
      "`%matplotlib` prevents importing * from pylab and numpy\n",
      "  \"\\n`%matplotlib` prevents importing * from pylab and numpy\"\n"
     ]
    },
    {
     "data": {
      "text/plain": [
       "<matplotlib.image.AxesImage at 0x7f4bf647d4e0>"
      ]
     },
     "execution_count": 34,
     "metadata": {},
     "output_type": "execute_result"
    },
    {
     "data": {
      "image/png": "[encoded data removed]",
      "text/plain": [
       "<Figure size 576x576 with 1 Axes>"
      ]
     },
     "metadata": {
      "needs_background": "light"
     },
     "output_type": "display_data"
    }
   ],
   "source": [
    "%pylab inline\n",
    "figsize(8, 8)\n",
    "\n",
    "E_f_max = np.max(np.abs(E_f))\n",
    "\n",
    "imshow(np.abs(E_f), origin=\"lower\")"
   ]
  },
  {
   "cell_type": "code",
   "execution_count": null,
   "metadata": {},
   "outputs": [],
   "source": []
  }
 ],
 "metadata": {
  "kernelspec": {
   "display_name": "Python 3",
   "language": "python",
   "name": "python3"
  },
  "language_info": {
   "codemirror_mode": {
    "name": "ipython",
    "version": 3
   },
   "file_extension": ".py",
   "mimetype": "text/x-python",
   "name": "python",
   "nbconvert_exporter": "python",
   "pygments_lexer": "ipython3",
   "version": "3.6.7"
  }
 },
 "nbformat": 4,
 "nbformat_minor": 2
}
