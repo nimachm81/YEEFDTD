{
 "cells": [
  {
   "cell_type": "code",
   "execution_count": 20,
   "metadata": {},
   "outputs": [
    {
     "name": "stdout",
     "output_type": "stream",
     "text": [
      "tip_radius_FD : 0.5\n",
      "freq_FD:  0.03335640951981521\n"
     ]
    }
   ],
   "source": [
    "from scipy import constants\n",
    "\n",
    "from PhysicalUnits import PhysicalUnits\n",
    "\n",
    "tip_radius = 50.0*constants.nano\n",
    "freq = 100.0*constants.tera\n",
    "\n",
    "units = PhysicalUnits(2.0*tip_radius)\n",
    "freq_FD = units.ConvertSIFrequencyToFDUnits(freq)\n",
    "tip_radius_FD = units.ConvertSILengthToFDUnits(tip_radius)\n",
    "\n",
    "print(\"tip_radius_FD :\", tip_radius_FD)\n",
    "print(\"freq_FD: \", freq_FD)\n"
   ]
  },
  {
   "cell_type": "code",
   "execution_count": 21,
   "metadata": {},
   "outputs": [
    {
     "name": "stdout",
     "output_type": "stream",
     "text": [
      "Num of time steps:  81\n",
      "gridsIntersectingGeometries  {'grid_m0': {'tip': [array([-0.62252747, -4.        , -0.62252747]), array([0.62252747, 0.        , 0.62252747])]}, 'grid_r1': {}, 'grid_l1': {}, 'grid_u1': {}, 'grid_d1': {'tip': [array([-0.73427393, -7.2       , -0.73427393]), array([ 0.73427393, -4.        ,  0.73427393])]}, 'grid_f1': {}, 'grid_b1': {}, 'grid_r2': {}, 'grid_l2': {}, 'grid_u2': {}, 'grid_d2': {'tip': [array([ -0.95776685, -13.6       ,  -0.95776685]), array([ 0.95776685, -7.2       ,  0.95776685])]}, 'grid_f2': {}, 'grid_b2': {}, 'grid_r3': {}, 'grid_l3': {}, 'grid_u3': {}, 'grid_d3': {'tip': [array([ -1.4047527, -26.4      ,  -1.4047527]), array([  1.4047527, -13.6      ,   1.4047527])]}, 'grid_f3': {}, 'grid_b3': {}, 'grid_r4': {}, 'grid_l4': {}, 'grid_u4': {}, 'grid_d4': {'tip': [array([ -2.2987244, -52.       ,  -2.2987244]), array([  2.2987244, -26.4      ,   2.2987244])]}, 'grid_f4': {}, 'grid_b4': {}}\n"
     ]
    }
   ],
   "source": [
    "import numpy as np\n",
    "\n",
    "from GridsParameters import MultilevelGridsParameters\n",
    "\n",
    "box_0_scale = 8.0*tip_radius_FD\n",
    "\n",
    "mlGrid = MultilevelGridsParameters()\n",
    "mlGrid.SetCenterGridDimensions(r0 = np.array([-1.0, -1.0, -1.0])*box_0_scale,\n",
    "                               r1 = np.array([+1.0, +1.0, +1.0])*box_0_scale,\n",
    "                               dr = np.array([1.0, 1.0, 1.0])*0.1*tip_radius_FD,\n",
    "                               S  = 0.95,\n",
    "                               nFactor = 32)\n",
    "mlGrid.AddLayer(numOfCells = np.array([32, 32, 32]))\n",
    "mlGrid.AddLayer(numOfCells = np.array([32, 32, 32]))\n",
    "mlGrid.AddLayer(numOfCells = np.array([32, 32, 32]))\n",
    "mlGrid.AddLayer(numOfCells = np.array([32, 32, 32]))\n",
    "\n",
    "sourceType = \"tip\"\n",
    "if sourceType == \"pointSource\":\n",
    "    mlGrid.AddSource({\"type\": \"GaussianPointSource\", \"position\":np.array([0.0, 0.0, 3.0]), \n",
    "                      \"polarization\":\"x\", \"amplitude\":1.0, \"t_center\":1.0, \"t_decay\":0.25,\n",
    "                      \"modulationFrequency\":1.0 , \"modulationPhase\":np.pi/2 , \"timeOffsetFraction\":0.5\n",
    "                     })\n",
    "elif sourceType == \"tip\":\n",
    "    mlGrid.AddGeometry({\"type\":\"cone\", \"geometryName\":\"tip\",\n",
    "                        \"coneAngle\":4.0*(np.pi/180), \n",
    "                        \"tipRadius\":tip_radius_FD, \"apexPosition\":np.array([0.0, 0.0, 0.0])*box_0_scale,\n",
    "                        \"height\":40.0*box_0_scale\n",
    "                      })\n",
    "    use_pec = True\n",
    "    if use_pec:\n",
    "        mlGrid.AddMaterial({\"type\":\"pec_PureScattered\", \"geometryName\":\"tip\"})\n",
    "    else:\n",
    "        mlGrid.AddMaterial({\"type\":\"DrudeMetal_PureScattered\", \"geometryName\":\"tip\",\n",
    "                            \"plasmaFrequency\":2.0*np.pi*1, \"scatteringRate\":2.0*np.pi*1})\n",
    "        \n",
    "    mlGrid.AddSource({\"type\": \"PureScatteredRectPlaneWave\", \"geometryName\":\"tip\",\n",
    "                      \"polarization\":\"y\", \"amplitude\":1.0, \n",
    "                      \"propagationDirection\":np.array([0,0,1.0]), \"propagationVelocity\":1.0,\n",
    "                      \"t_center\":0.6/freq_FD, \"rectWidth\":1.0/freq_FD, \"rectEdgeWidth\":0.1/freq_FD,\n",
    "                      \"modulationFrequency\":freq_FD , \"modulationPhase\":np.pi/2 \n",
    "                 })\n",
    "\n",
    "\n",
    "mlGrid.AddView({\"type\":\"partial\", \"plane\":\"x\", \"at\":0.0, \"direction\":\"y\", \"arrayName\":\"E\"})\n",
    "mlGrid.AddView({\"type\":\"partial\", \"plane\":\"y\", \"at\":0.0, \"direction\":\"y\", \"arrayName\":\"E\"})\n",
    "mlGrid.AddView({\"type\":\"partial\", \"plane\":\"z\", \"at\":0.0, \"direction\":\"y\", \"arrayName\":\"E\"})\n",
    "\n",
    "mlGrid.SetupCollectionAndRun(t_max = 1.2/freq_FD, \n",
    "                             filename = \"../../processed/Maxwell3D_nonuniform_autogenerated.json\", \n",
    "                             paramfileName = \"../../../data/3D/auto/params.param\"\n",
    "                             )\n"
   ]
  },
  {
   "cell_type": "code",
   "execution_count": null,
   "metadata": {},
   "outputs": [],
   "source": []
  }
 ],
 "metadata": {
  "kernelspec": {
   "display_name": "Python 3",
   "language": "python",
   "name": "python3"
  },
  "language_info": {
   "codemirror_mode": {
    "name": "ipython",
    "version": 3
   },
   "file_extension": ".py",
   "mimetype": "text/x-python",
   "name": "python",
   "nbconvert_exporter": "python",
   "pygments_lexer": "ipython3",
   "version": "3.6.7"
  }
 },
 "nbformat": 4,
 "nbformat_minor": 2
}
