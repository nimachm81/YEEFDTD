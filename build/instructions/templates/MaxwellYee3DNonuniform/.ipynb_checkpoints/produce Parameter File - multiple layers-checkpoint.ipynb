{
 "cells": [
  {
   "cell_type": "code",
   "execution_count": 1,
   "metadata": {},
   "outputs": [
    {
     "name": "stdout",
     "output_type": "stream",
     "text": [
      "tip_radius_FD : 0.5\n",
      "freq_FD:  0.0006671281903963042\n",
      "lambda_si:  0.000299792458\n"
     ]
    }
   ],
   "source": [
    "from scipy import constants\n",
    "\n",
    "from PhysicalUnits import PhysicalUnits\n",
    "\n",
    "tip_radius = 100.0*constants.nano\n",
    "freq = 1.0*constants.tera\n",
    "length_FD = 2.0*tip_radius\n",
    "\n",
    "units = PhysicalUnits(length_FD)\n",
    "freq_FD = units.ConvertSIFrequencyToFDUnits(freq)\n",
    "tip_radius_FD = units.ConvertSILengthToFDUnits(tip_radius)\n",
    "lambda_si = constants.c/freq\n",
    "\n",
    "print(\"tip_radius_FD :\", tip_radius_FD)\n",
    "print(\"freq_FD: \", freq_FD)\n",
    "print(\"lambda_si: \", lambda_si)"
   ]
  },
  {
   "cell_type": "code",
   "execution_count": 3,
   "metadata": {},
   "outputs": [
    {
     "name": "stdout",
     "output_type": "stream",
     "text": [
      "Num of time steps:  860\n",
      "gridsIntersectingGeometries  {'grid_m0': {'tip': [array([ -0.83205208, -10.        ,  -0.83205208]), array([0.83205208, 0.        , 0.83205208])]}, 'grid_r1': {}, 'grid_l1': {}, 'grid_u1': {}, 'grid_d1': {'tip': [array([ -0.89316343, -11.75      ,  -0.89316343]), array([  0.89316343, -10.        ,   0.89316343])]}, 'grid_f1': {}, 'grid_b1': {}, 'grid_r2': {}, 'grid_l2': {}, 'grid_u2': {}, 'grid_d2': {'tip': [array([ -1.01538612, -15.25      ,  -1.01538612]), array([  1.01538612, -11.75      ,   1.01538612])]}, 'grid_f2': {}, 'grid_b2': {}, 'grid_r3': {}, 'grid_l3': {}, 'grid_u3': {}, 'grid_d3': {'tip': [array([ -1.25983151, -22.25      ,  -1.25983151]), array([  1.25983151, -15.25      ,   1.25983151])]}, 'grid_f3': {}, 'grid_b3': {}, 'grid_r4': {}, 'grid_l4': {}, 'grid_u4': {}, 'grid_d4': {'tip': [array([ -1.74872228, -36.25      ,  -1.74872228]), array([  1.74872228, -22.25      ,   1.74872228])]}, 'grid_f4': {}, 'grid_b4': {}, 'grid_r5': {}, 'grid_l5': {}, 'grid_u5': {}, 'grid_d5': {'tip': [array([ -2.72650383, -64.25      ,  -2.72650383]), array([  2.72650383, -36.25      ,   2.72650383])]}, 'grid_f5': {}, 'grid_b5': {}, 'grid_r6': {}, 'grid_l6': {}, 'grid_u6': {}, 'grid_d6': {'tip': [array([  -4.68206692, -120.25      ,   -4.68206692]), array([  4.68206692, -64.25      ,   4.68206692])]}, 'grid_f6': {}, 'grid_b6': {}, 'grid_r7': {}, 'grid_l7': {}, 'grid_u7': {}, 'grid_d7': {'tip': [array([ -12.50431928, -344.25      ,  -12.50431928]), array([  12.50431928, -120.25      ,   12.50431928])]}, 'grid_f7': {}, 'grid_b7': {}}\n"
     ]
    },
    {
     "data": {
      "text/plain": [
       "array([0.51502296, 0.45531499, 0.51502296])"
      ]
     },
     "execution_count": 3,
     "metadata": {},
     "output_type": "execute_result"
    }
   ],
   "source": [
    "import numpy as np\n",
    "\n",
    "from GridsParameters import MultilevelGridsParameters\n",
    "\n",
    "box_0_scale = 8.0*tip_radius_FD\n",
    "\n",
    "mlGrid = MultilevelGridsParameters()\n",
    "mlGrid.SetCenterGridDimensions(r0 = np.array([-1.0, -2.5, -1.0])*box_0_scale,\n",
    "                               r1 = np.array([+1.0, +1.0, +1.0])*box_0_scale,\n",
    "                               dr = np.array([1.0, 1.0, 1.0])*0.1*tip_radius_FD,\n",
    "                               S  = 0.95,\n",
    "                               nFactor = 64,\n",
    "                               nIsPowerOf2=True)\n",
    "\n",
    "mlGrid.AddLayer(numOfCells = np.array([32, 32, 32]))\n",
    "mlGrid.AddLayer(numOfCells = np.array([32, 32, 32]))\n",
    "mlGrid.AddLayer(numOfCells = np.array([32, 32, 32]))\n",
    "mlGrid.AddLayer(numOfCells = np.array([32, 32, 32]))\n",
    "mlGrid.AddLayer(numOfCells = np.array([32, 32, 32]))\n",
    "mlGrid.AddLayer(numOfCells = np.array([32, 32, 32]))\n",
    "mlGrid.AddLayer(numOfCells = np.array([64, 64, 64]))\n",
    "add_pml = False\n",
    "if add_pml:\n",
    "    mlGrid.AddPML(face = \"f\", numOfCells = 20)\n",
    "    mlGrid.AddPML(face = \"b\", numOfCells = 20)\n",
    "    mlGrid.AddPML(face = \"r\", numOfCells = 20)\n",
    "    mlGrid.AddPML(face = \"l\", numOfCells = 20)\n",
    "\n",
    "sourceType = \"tip\"\n",
    "if sourceType == \"pointSource\":\n",
    "    mlGrid.AddSource({\"type\": \"GaussianPointSource\", \"position\":np.array([0.0, 0.0, 0.0]), \n",
    "                      \"polarization\":\"y\", \"amplitude\":1.0, \"t_center\":1.0/freq_FD, \"t_decay\":0.25/freq_FD,\n",
    "                      \"modulationFrequency\":freq_FD , \"modulationPhase\":np.pi/2 , \"timeOffsetFraction\":0.5\n",
    "                     })\n",
    "elif sourceType == \"tip\":\n",
    "    mlGrid.AddGeometry({\"type\":\"cone\", \"geometryName\":\"tip\",\n",
    "                        \"coneAngle\":4.0*(np.pi/180), \n",
    "                        \"tipRadius\":tip_radius_FD, \"apexPosition\":np.array([0.0, 0.0, 0.0])*box_0_scale,\n",
    "                        \"height\":100.0*box_0_scale\n",
    "                      })\n",
    "    use_pec = True\n",
    "    if use_pec:\n",
    "        mlGrid.AddMaterial({\"type\":\"pec_PureScattered\", \"geometryName\":\"tip\"})\n",
    "    else:\n",
    "        mlGrid.AddMaterial({\"type\":\"DrudeMetal_PureScattered\", \"geometryName\":\"tip\",\n",
    "                            \"plasmaFrequency\":2.0*np.pi*1, \"scatteringRate\":2.0*np.pi*1})\n",
    "        \n",
    "    mlGrid.AddSource({\"type\": \"PureScatteredRectPlaneWave\", \"geometryName\":\"tip\",\n",
    "                      \"polarization\":\"y\", \"amplitude\":1.0, \n",
    "                      \"propagationDirection\":np.array([0,0,1.0]), \"propagationVelocity\":1.0,\n",
    "                      \"t_center\":0.6/freq_FD, \"rectWidth\":1.0/freq_FD, \"rectEdgeWidth\":0.1/freq_FD,\n",
    "                      \"modulationFrequency\":freq_FD , \"modulationPhase\":np.pi/2 \n",
    "                 })\n",
    "\n",
    "\n",
    "mlGrid.AddView({\"type\":\"partial\", \"plane\":\"x\", \"at\":0.0, \"direction\":\"y\", \"arrayName\":\"E\"})\n",
    "mlGrid.AddView({\"type\":\"partial\", \"plane\":\"y\", \"at\":0.0, \"direction\":\"y\", \"arrayName\":\"E\"})\n",
    "mlGrid.AddView({\"type\":\"partial\", \"plane\":\"z\", \"at\":0.0, \"direction\":\"y\", \"arrayName\":\"E\"})\n",
    "\n",
    "paramfileName = \"../../../data/3D/auto/params.param\"\n",
    "mlGrid.SetupCollectionAndRun(t_max = 1.2/freq_FD, \n",
    "                             filename = \"../../processed/Maxwell3D_nonuniform_autogenerated.json\", \n",
    "                             paramfileName = paramfileName\n",
    "                             )\n",
    "\n",
    "import pickle\n",
    "fileParams = open(paramfileName, \"rb\")\n",
    "params = pickle.load(fileParams)\n",
    "fileParams.close()\n",
    "\n",
    "params[\"units\"] = {\"tip_radius\":tip_radius, \"freq\":freq, \"length_FD\":length_FD}\n",
    "\n",
    "paramfile = open(paramfileName, \"wb\")\n",
    "pickle.dump(params, paramfile)\n",
    "paramfile.close()\n",
    "\n",
    "(params[\"boxes\"][-1][\"r1\"] - params[\"boxes\"][-1][\"r0\"])*length_FD/lambda_si"
   ]
  },
  {
   "cell_type": "code",
   "execution_count": null,
   "metadata": {},
   "outputs": [],
   "source": []
  }
 ],
 "metadata": {
  "kernelspec": {
   "display_name": "Python 3",
   "language": "python",
   "name": "python3"
  },
  "language_info": {
   "codemirror_mode": {
    "name": "ipython",
    "version": 3
   },
   "file_extension": ".py",
   "mimetype": "text/x-python",
   "name": "python",
   "nbconvert_exporter": "python",
   "pygments_lexer": "ipython3",
   "version": "3.6.8"
  }
 },
 "nbformat": 4,
 "nbformat_minor": 2
}
